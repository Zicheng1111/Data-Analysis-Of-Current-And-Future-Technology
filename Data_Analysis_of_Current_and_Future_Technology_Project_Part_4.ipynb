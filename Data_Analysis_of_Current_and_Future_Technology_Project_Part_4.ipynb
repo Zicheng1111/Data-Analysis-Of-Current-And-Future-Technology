{
  "nbformat": 4,
  "nbformat_minor": 0,
  "metadata": {
    "colab": {
      "name": "Data Analysis Of Current And Future Technology Project Part 4.ipynb",
      "provenance": []
    },
    "kernelspec": {
      "name": "python3",
      "display_name": "Python 3"
    },
    "language_info": {
      "name": "python"
    }
  },
  "cells": [
    {
      "cell_type": "markdown",
      "metadata": {
        "id": "tEFY1vAiDe0z"
      },
      "source": [
        "\n",
        "**Collecting Data by webscrapping**"
      ]
    },
    {
      "cell_type": "code",
      "metadata": {
        "id": "_S6xzUTZDbgi"
      },
      "source": [
        "from bs4 import BeautifulSoup # this module helps in web scrapping.\n",
        "import requests  # this module helps us to download a web page\n",
        "import pandas as pd\n",
        "import numpy as np"
      ],
      "execution_count": 1,
      "outputs": []
    },
    {
      "cell_type": "markdown",
      "metadata": {
        "id": "I-bbdSq5D5Lg"
      },
      "source": [
        "Get the url"
      ]
    },
    {
      "cell_type": "code",
      "metadata": {
        "colab": {
          "base_uri": "https://localhost:8080/",
          "height": 103
        },
        "id": "fspAwmDHD5b9",
        "outputId": "87a3cd02-8e0b-4abf-939a-ce5d6c21f337"
      },
      "source": [
        "url = \"https://cf-courses-data.s3.us.cloud-object-storage.appdomain.cloud/IBM-DA0321EN-SkillsNetwork/labs/datasets/Programming_Languages.html\"\n",
        "data  = requests.get(url).text \n",
        "data"
      ],
      "execution_count": 2,
      "outputs": [
        {
          "output_type": "execute_result",
          "data": {
            "application/vnd.google.colaboratory.intrinsic+json": {
              "type": "string"
            },
            "text/plain": [
              "'<!doctype html>\\n<html lang=\"en\">\\n<head>\\n<title>\\nSalary survey results of programming languages\\n</title>\\n<style>\\ntable, th, td {\\n  border: 1px solid black;\\n}\\n</style>\\n</head>\\n\\n<body>\\n<hr />\\n<h2>Popular Programming Languages</h2>\\n<hr />\\n<p>Finding out which is the best language is a tough task. A programming language is created to solve a specific problem. A language which is good for task A may not be able to properly handle task B. Comparing programming language is never easy. What we can do, however, is find which is popular in the industry.</p>\\n<p>There are many ways to find the popularity of a programming languages. Counting the number of google searchs for each language is a simple way to find the popularity. GitHub and StackOverflow also can give some good pointers.</p>\\n<p>Salary surveys are a way to find out the programmings languages that are most in demand in the industry. Below table is the result of one such survey. When using any survey keep in mind that the results vary year on year.</p>\\n<hr />\\n<table>\\n<tbody>\\n<tr>\\n<td>No.</td>\\n<td>Language</td>\\n<td>Created By</td>\\n<td>Average Annual Salary</td>\\n<td>Learning Difficulty</td>\\n</tr>\\n<tr>\\n<td>1</td>\\n<td>Python</td>\\n<td>Guido van Rossum</td>\\n<td>$114,383</td>\\n<td>Easy</td>\\n</tr>\\n<tr>\\n<td>2</td>\\n<td>Java</td>\\n<td>James Gosling</td>\\n<td>$101,013</td>\\n<td>Easy</td>\\n</tr>\\n<tr>\\n<td>3</td>\\n<td>R</td>\\n<td>Robert Gentleman, Ross Ihaka</td>\\n<td>$92,037</td>\\n<td>Hard</td>\\n</tr>\\n<tr>\\n<td>4</td>\\n<td>Javascript</td>\\n<td>Netscape</td>\\n<td>$110,981</td>\\n<td>Easy</td>\\n</tr>\\n<tr>\\n<td>5</td>\\n<td>Swift</td>\\n<td>Apple</td>\\n<td>$130,801</td>\\n<td>Easy</td>\\n</tr>\\n<tr>\\n<td>6</td>\\n<td>C++</td>\\n<td>Bjarne Stroustrup</td>\\n<td>$113,865</td>\\n<td>Hard</td>\\n</tr>\\n<tr>\\n<td>7</td>\\n<td>C#</td>\\n<td>Microsoft</td>\\n<td>$88,726</td>\\n<td>Hard</td>\\n</tr>\\n<tr>\\n<td>8</td>\\n<td>PHP</td>\\n<td>Rasmus Lerdorf</td>\\n<td>$84,727</td>\\n<td>Easy</td>\\n</tr>\\n<tr>\\n<td>9</td>\\n<td>SQL</td>\\n<td>Donald D. Chamberlin, Raymond F. Boyce.</td>\\n<td>$84,793</td>\\n<td>Easy</td>\\n</tr>\\n<tr>\\n<td>10</td>\\n<td>Go</td>\\n<td>Robert Griesemer, Ken Thompson, Rob Pike.</td>\\n<td>$94,082</td>\\n<td>Difficult</td>\\n</tr>\\n</tbody>\\n</table>\\n<hr />\\n</body>\\n</html>'"
            ]
          },
          "metadata": {
            "tags": []
          },
          "execution_count": 2
        }
      ]
    },
    {
      "cell_type": "markdown",
      "metadata": {
        "id": "A-xKt42AELnT"
      },
      "source": [
        "Create a soup object"
      ]
    },
    {
      "cell_type": "code",
      "metadata": {
        "colab": {
          "base_uri": "https://localhost:8080/"
        },
        "id": "mgzDUW8PEHPq",
        "outputId": "28a8805a-e627-4322-80c7-a2d13c82d8fc"
      },
      "source": [
        "soup = BeautifulSoup(data,\"html5lib\")  # create a soup object using the variable 'data'\n",
        "soup"
      ],
      "execution_count": 3,
      "outputs": [
        {
          "output_type": "execute_result",
          "data": {
            "text/plain": [
              "<!DOCTYPE html>\n",
              "<html lang=\"en\"><head>\n",
              "<title>\n",
              "Salary survey results of programming languages\n",
              "</title>\n",
              "<style>\n",
              "table, th, td {\n",
              "  border: 1px solid black;\n",
              "}\n",
              "</style>\n",
              "</head>\n",
              "\n",
              "<body>\n",
              "<hr/>\n",
              "<h2>Popular Programming Languages</h2>\n",
              "<hr/>\n",
              "<p>Finding out which is the best language is a tough task. A programming language is created to solve a specific problem. A language which is good for task A may not be able to properly handle task B. Comparing programming language is never easy. What we can do, however, is find which is popular in the industry.</p>\n",
              "<p>There are many ways to find the popularity of a programming languages. Counting the number of google searchs for each language is a simple way to find the popularity. GitHub and StackOverflow also can give some good pointers.</p>\n",
              "<p>Salary surveys are a way to find out the programmings languages that are most in demand in the industry. Below table is the result of one such survey. When using any survey keep in mind that the results vary year on year.</p>\n",
              "<hr/>\n",
              "<table>\n",
              "<tbody>\n",
              "<tr>\n",
              "<td>No.</td>\n",
              "<td>Language</td>\n",
              "<td>Created By</td>\n",
              "<td>Average Annual Salary</td>\n",
              "<td>Learning Difficulty</td>\n",
              "</tr>\n",
              "<tr>\n",
              "<td>1</td>\n",
              "<td>Python</td>\n",
              "<td>Guido van Rossum</td>\n",
              "<td>$114,383</td>\n",
              "<td>Easy</td>\n",
              "</tr>\n",
              "<tr>\n",
              "<td>2</td>\n",
              "<td>Java</td>\n",
              "<td>James Gosling</td>\n",
              "<td>$101,013</td>\n",
              "<td>Easy</td>\n",
              "</tr>\n",
              "<tr>\n",
              "<td>3</td>\n",
              "<td>R</td>\n",
              "<td>Robert Gentleman, Ross Ihaka</td>\n",
              "<td>$92,037</td>\n",
              "<td>Hard</td>\n",
              "</tr>\n",
              "<tr>\n",
              "<td>4</td>\n",
              "<td>Javascript</td>\n",
              "<td>Netscape</td>\n",
              "<td>$110,981</td>\n",
              "<td>Easy</td>\n",
              "</tr>\n",
              "<tr>\n",
              "<td>5</td>\n",
              "<td>Swift</td>\n",
              "<td>Apple</td>\n",
              "<td>$130,801</td>\n",
              "<td>Easy</td>\n",
              "</tr>\n",
              "<tr>\n",
              "<td>6</td>\n",
              "<td>C++</td>\n",
              "<td>Bjarne Stroustrup</td>\n",
              "<td>$113,865</td>\n",
              "<td>Hard</td>\n",
              "</tr>\n",
              "<tr>\n",
              "<td>7</td>\n",
              "<td>C#</td>\n",
              "<td>Microsoft</td>\n",
              "<td>$88,726</td>\n",
              "<td>Hard</td>\n",
              "</tr>\n",
              "<tr>\n",
              "<td>8</td>\n",
              "<td>PHP</td>\n",
              "<td>Rasmus Lerdorf</td>\n",
              "<td>$84,727</td>\n",
              "<td>Easy</td>\n",
              "</tr>\n",
              "<tr>\n",
              "<td>9</td>\n",
              "<td>SQL</td>\n",
              "<td>Donald D. Chamberlin, Raymond F. Boyce.</td>\n",
              "<td>$84,793</td>\n",
              "<td>Easy</td>\n",
              "</tr>\n",
              "<tr>\n",
              "<td>10</td>\n",
              "<td>Go</td>\n",
              "<td>Robert Griesemer, Ken Thompson, Rob Pike.</td>\n",
              "<td>$94,082</td>\n",
              "<td>Difficult</td>\n",
              "</tr>\n",
              "</tbody>\n",
              "</table>\n",
              "<hr/>\n",
              "\n",
              "</body></html>"
            ]
          },
          "metadata": {
            "tags": []
          },
          "execution_count": 3
        }
      ]
    },
    {
      "cell_type": "markdown",
      "metadata": {
        "id": "PSbXJ-s1EhV2"
      },
      "source": [
        "Locate the table in the html"
      ]
    },
    {
      "cell_type": "code",
      "metadata": {
        "colab": {
          "base_uri": "https://localhost:8080/"
        },
        "id": "I8SiOow2EhhO",
        "outputId": "2728b980-39ba-47b1-a7f5-4caa054cac22"
      },
      "source": [
        "table = soup.find('table')\n",
        "table"
      ],
      "execution_count": 4,
      "outputs": [
        {
          "output_type": "execute_result",
          "data": {
            "text/plain": [
              "<table>\n",
              "<tbody>\n",
              "<tr>\n",
              "<td>No.</td>\n",
              "<td>Language</td>\n",
              "<td>Created By</td>\n",
              "<td>Average Annual Salary</td>\n",
              "<td>Learning Difficulty</td>\n",
              "</tr>\n",
              "<tr>\n",
              "<td>1</td>\n",
              "<td>Python</td>\n",
              "<td>Guido van Rossum</td>\n",
              "<td>$114,383</td>\n",
              "<td>Easy</td>\n",
              "</tr>\n",
              "<tr>\n",
              "<td>2</td>\n",
              "<td>Java</td>\n",
              "<td>James Gosling</td>\n",
              "<td>$101,013</td>\n",
              "<td>Easy</td>\n",
              "</tr>\n",
              "<tr>\n",
              "<td>3</td>\n",
              "<td>R</td>\n",
              "<td>Robert Gentleman, Ross Ihaka</td>\n",
              "<td>$92,037</td>\n",
              "<td>Hard</td>\n",
              "</tr>\n",
              "<tr>\n",
              "<td>4</td>\n",
              "<td>Javascript</td>\n",
              "<td>Netscape</td>\n",
              "<td>$110,981</td>\n",
              "<td>Easy</td>\n",
              "</tr>\n",
              "<tr>\n",
              "<td>5</td>\n",
              "<td>Swift</td>\n",
              "<td>Apple</td>\n",
              "<td>$130,801</td>\n",
              "<td>Easy</td>\n",
              "</tr>\n",
              "<tr>\n",
              "<td>6</td>\n",
              "<td>C++</td>\n",
              "<td>Bjarne Stroustrup</td>\n",
              "<td>$113,865</td>\n",
              "<td>Hard</td>\n",
              "</tr>\n",
              "<tr>\n",
              "<td>7</td>\n",
              "<td>C#</td>\n",
              "<td>Microsoft</td>\n",
              "<td>$88,726</td>\n",
              "<td>Hard</td>\n",
              "</tr>\n",
              "<tr>\n",
              "<td>8</td>\n",
              "<td>PHP</td>\n",
              "<td>Rasmus Lerdorf</td>\n",
              "<td>$84,727</td>\n",
              "<td>Easy</td>\n",
              "</tr>\n",
              "<tr>\n",
              "<td>9</td>\n",
              "<td>SQL</td>\n",
              "<td>Donald D. Chamberlin, Raymond F. Boyce.</td>\n",
              "<td>$84,793</td>\n",
              "<td>Easy</td>\n",
              "</tr>\n",
              "<tr>\n",
              "<td>10</td>\n",
              "<td>Go</td>\n",
              "<td>Robert Griesemer, Ken Thompson, Rob Pike.</td>\n",
              "<td>$94,082</td>\n",
              "<td>Difficult</td>\n",
              "</tr>\n",
              "</tbody>\n",
              "</table>"
            ]
          },
          "metadata": {
            "tags": []
          },
          "execution_count": 4
        }
      ]
    },
    {
      "cell_type": "markdown",
      "metadata": {
        "id": "xjAHuQJxEomX"
      },
      "source": [
        "Create empty dataframe and insert data into it from html table"
      ]
    },
    {
      "cell_type": "code",
      "metadata": {
        "colab": {
          "base_uri": "https://localhost:8080/",
          "height": 359
        },
        "id": "YVleT9IIEovf",
        "outputId": "d125e335-5f35-4e5a-ffa7-90d646817b94"
      },
      "source": [
        "df_table = pd.DataFrame(columns=['Language','Average Annual Salary'])\n",
        "for row in table.tbody.find_all(\"tr\"):  \n",
        "    col = row.find_all(\"td\")\n",
        "    if (col != []):\n",
        "        language = col[1].text\n",
        "        salary = col[3].text\n",
        "        df_table = df_table.append({\"Language\":language, \"Average Annual Salary\":salary},ignore_index=True)\n",
        "df_table\n",
        "df_table.drop([0,0],axis=0,inplace=True)\n",
        "df_table"
      ],
      "execution_count": 5,
      "outputs": [
        {
          "output_type": "execute_result",
          "data": {
            "text/html": [
              "<div>\n",
              "<style scoped>\n",
              "    .dataframe tbody tr th:only-of-type {\n",
              "        vertical-align: middle;\n",
              "    }\n",
              "\n",
              "    .dataframe tbody tr th {\n",
              "        vertical-align: top;\n",
              "    }\n",
              "\n",
              "    .dataframe thead th {\n",
              "        text-align: right;\n",
              "    }\n",
              "</style>\n",
              "<table border=\"1\" class=\"dataframe\">\n",
              "  <thead>\n",
              "    <tr style=\"text-align: right;\">\n",
              "      <th></th>\n",
              "      <th>Language</th>\n",
              "      <th>Average Annual Salary</th>\n",
              "    </tr>\n",
              "  </thead>\n",
              "  <tbody>\n",
              "    <tr>\n",
              "      <th>1</th>\n",
              "      <td>Python</td>\n",
              "      <td>$114,383</td>\n",
              "    </tr>\n",
              "    <tr>\n",
              "      <th>2</th>\n",
              "      <td>Java</td>\n",
              "      <td>$101,013</td>\n",
              "    </tr>\n",
              "    <tr>\n",
              "      <th>3</th>\n",
              "      <td>R</td>\n",
              "      <td>$92,037</td>\n",
              "    </tr>\n",
              "    <tr>\n",
              "      <th>4</th>\n",
              "      <td>Javascript</td>\n",
              "      <td>$110,981</td>\n",
              "    </tr>\n",
              "    <tr>\n",
              "      <th>5</th>\n",
              "      <td>Swift</td>\n",
              "      <td>$130,801</td>\n",
              "    </tr>\n",
              "    <tr>\n",
              "      <th>6</th>\n",
              "      <td>C++</td>\n",
              "      <td>$113,865</td>\n",
              "    </tr>\n",
              "    <tr>\n",
              "      <th>7</th>\n",
              "      <td>C#</td>\n",
              "      <td>$88,726</td>\n",
              "    </tr>\n",
              "    <tr>\n",
              "      <th>8</th>\n",
              "      <td>PHP</td>\n",
              "      <td>$84,727</td>\n",
              "    </tr>\n",
              "    <tr>\n",
              "      <th>9</th>\n",
              "      <td>SQL</td>\n",
              "      <td>$84,793</td>\n",
              "    </tr>\n",
              "    <tr>\n",
              "      <th>10</th>\n",
              "      <td>Go</td>\n",
              "      <td>$94,082</td>\n",
              "    </tr>\n",
              "  </tbody>\n",
              "</table>\n",
              "</div>"
            ],
            "text/plain": [
              "      Language Average Annual Salary\n",
              "1       Python              $114,383\n",
              "2         Java              $101,013\n",
              "3            R               $92,037\n",
              "4   Javascript              $110,981\n",
              "5        Swift              $130,801\n",
              "6          C++              $113,865\n",
              "7           C#               $88,726\n",
              "8          PHP               $84,727\n",
              "9          SQL               $84,793\n",
              "10          Go               $94,082"
            ]
          },
          "metadata": {
            "tags": []
          },
          "execution_count": 5
        }
      ]
    },
    {
      "cell_type": "markdown",
      "metadata": {
        "id": "zz9xFEoxFlp6"
      },
      "source": [
        "Export dataframe table to Excel file"
      ]
    },
    {
      "cell_type": "code",
      "metadata": {
        "colab": {
          "base_uri": "https://localhost:8080/"
        },
        "id": "hRcJBSzgFIR9",
        "outputId": "5f1cc224-ecf2-4b8d-b62a-2d3b86764a2f"
      },
      "source": [
        "# your code goes here\n",
        "from google.colab import drive\n",
        "drive.mount('drive', force_remount=True)\n",
        "drive.mount('drive')\n",
        "df_table.to_excel('Programming-Languages-Salary.xlsx')\n",
        "!cp Programming-Languages-Salary.xlsx \"drive/My Drive/\""
      ],
      "execution_count": 6,
      "outputs": [
        {
          "output_type": "stream",
          "text": [
            "Mounted at drive\n",
            "Drive already mounted at drive; to attempt to forcibly remount, call drive.mount(\"drive\", force_remount=True).\n"
          ],
          "name": "stdout"
        }
      ]
    }
  ]
}