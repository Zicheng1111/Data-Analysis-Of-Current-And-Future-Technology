{
  "nbformat": 4,
  "nbformat_minor": 0,
  "metadata": {
    "colab": {
      "name": "Data Analysis Of Current And Future Technology Project Part 3.ipynb",
      "provenance": []
    },
    "kernelspec": {
      "name": "python3",
      "display_name": "Python 3"
    },
    "language_info": {
      "name": "python"
    }
  },
  "cells": [
    {
      "cell_type": "markdown",
      "metadata": {
        "id": "xihg6oA4AHVI"
      },
      "source": [
        "**Collecting Data by webscrapping**"
      ]
    },
    {
      "cell_type": "markdown",
      "metadata": {
        "id": "NlvyST8QAVWC"
      },
      "source": [
        "Import relevant modules"
      ]
    },
    {
      "cell_type": "code",
      "metadata": {
        "id": "D9y6ATrKADEh"
      },
      "source": [
        "import requests\n",
        "import pandas as pd\n",
        "import numpy as np"
      ],
      "execution_count": 1,
      "outputs": []
    },
    {
      "cell_type": "markdown",
      "metadata": {
        "id": "zDNm9ga-DEKQ"
      },
      "source": [
        "Generate the list of dictionaries of the job postings"
      ]
    },
    {
      "cell_type": "code",
      "metadata": {
        "colab": {
          "base_uri": "https://localhost:8080/"
        },
        "id": "ynS5jKFCAXg7",
        "outputId": "493914a7-42be-4cd0-89af-d27ce18787ba"
      },
      "source": [
        "baseurl = \"https://cf-courses-data.s3.us.cloud-object-storage.appdomain.cloud/IBM-DA0321EN-SkillsNetwork/labs/module%201/datasets/githubposting.json\"\n",
        "r=requests.get(baseurl)\n",
        "r.json()"
      ],
      "execution_count": 2,
      "outputs": [
        {
          "output_type": "execute_result",
          "data": {
            "text/plain": [
              "[{'A': 'technology', 'B': 'number of job posting'},\n",
              " {'A': 'java', 'B': '92'},\n",
              " {'A': 'C', 'B': '184'},\n",
              " {'A': 'C#', 'B': '14'},\n",
              " {'A': 'C++', 'B': '24'},\n",
              " {'A': 'Java', 'B': '92'},\n",
              " {'A': 'JavaScript', 'B': '65'},\n",
              " {'A': 'Python', 'B': '51'},\n",
              " {'A': 'Scala', 'B': '47'},\n",
              " {'A': 'Oracle', 'B': '6'},\n",
              " {'A': 'SQL Server', 'B': '16'},\n",
              " {'A': 'MySQL Server', 'B': '5'},\n",
              " {'A': 'PostgreSQL', 'B': '17'},\n",
              " {'A': 'MongoDB', 'B': '4'}]"
            ]
          },
          "metadata": {
            "tags": []
          },
          "execution_count": 2
        }
      ]
    },
    {
      "cell_type": "markdown",
      "metadata": {
        "id": "p58CkFkFDK6Y"
      },
      "source": [
        "Create an empty dataframe and add data into it"
      ]
    },
    {
      "cell_type": "code",
      "metadata": {
        "colab": {
          "base_uri": "https://localhost:8080/",
          "height": 452
        },
        "id": "6kSTBS1EAcBM",
        "outputId": "b8c7d264-ebeb-4090-971f-10115871988d"
      },
      "source": [
        "tech_list = r.json()\n",
        "tech_list\n",
        "gitlab=pd.DataFrame(columns=['Technology','Number Of Job Postings'])\n",
        "for item in tech_list:\n",
        "    gitlab = gitlab.append({'Technology':item['A'],'Number Of Job Postings':item['B']},ignore_index=True)\n",
        "gitlab\n",
        "gitlab.drop([0,0], axis=0, inplace = True)\n",
        "gitlab"
      ],
      "execution_count": 3,
      "outputs": [
        {
          "output_type": "execute_result",
          "data": {
            "text/html": [
              "<div>\n",
              "<style scoped>\n",
              "    .dataframe tbody tr th:only-of-type {\n",
              "        vertical-align: middle;\n",
              "    }\n",
              "\n",
              "    .dataframe tbody tr th {\n",
              "        vertical-align: top;\n",
              "    }\n",
              "\n",
              "    .dataframe thead th {\n",
              "        text-align: right;\n",
              "    }\n",
              "</style>\n",
              "<table border=\"1\" class=\"dataframe\">\n",
              "  <thead>\n",
              "    <tr style=\"text-align: right;\">\n",
              "      <th></th>\n",
              "      <th>Technology</th>\n",
              "      <th>Number Of Job Postings</th>\n",
              "    </tr>\n",
              "  </thead>\n",
              "  <tbody>\n",
              "    <tr>\n",
              "      <th>1</th>\n",
              "      <td>java</td>\n",
              "      <td>92</td>\n",
              "    </tr>\n",
              "    <tr>\n",
              "      <th>2</th>\n",
              "      <td>C</td>\n",
              "      <td>184</td>\n",
              "    </tr>\n",
              "    <tr>\n",
              "      <th>3</th>\n",
              "      <td>C#</td>\n",
              "      <td>14</td>\n",
              "    </tr>\n",
              "    <tr>\n",
              "      <th>4</th>\n",
              "      <td>C++</td>\n",
              "      <td>24</td>\n",
              "    </tr>\n",
              "    <tr>\n",
              "      <th>5</th>\n",
              "      <td>Java</td>\n",
              "      <td>92</td>\n",
              "    </tr>\n",
              "    <tr>\n",
              "      <th>6</th>\n",
              "      <td>JavaScript</td>\n",
              "      <td>65</td>\n",
              "    </tr>\n",
              "    <tr>\n",
              "      <th>7</th>\n",
              "      <td>Python</td>\n",
              "      <td>51</td>\n",
              "    </tr>\n",
              "    <tr>\n",
              "      <th>8</th>\n",
              "      <td>Scala</td>\n",
              "      <td>47</td>\n",
              "    </tr>\n",
              "    <tr>\n",
              "      <th>9</th>\n",
              "      <td>Oracle</td>\n",
              "      <td>6</td>\n",
              "    </tr>\n",
              "    <tr>\n",
              "      <th>10</th>\n",
              "      <td>SQL Server</td>\n",
              "      <td>16</td>\n",
              "    </tr>\n",
              "    <tr>\n",
              "      <th>11</th>\n",
              "      <td>MySQL Server</td>\n",
              "      <td>5</td>\n",
              "    </tr>\n",
              "    <tr>\n",
              "      <th>12</th>\n",
              "      <td>PostgreSQL</td>\n",
              "      <td>17</td>\n",
              "    </tr>\n",
              "    <tr>\n",
              "      <th>13</th>\n",
              "      <td>MongoDB</td>\n",
              "      <td>4</td>\n",
              "    </tr>\n",
              "  </tbody>\n",
              "</table>\n",
              "</div>"
            ],
            "text/plain": [
              "      Technology Number Of Job Postings\n",
              "1           java                     92\n",
              "2              C                    184\n",
              "3             C#                     14\n",
              "4            C++                     24\n",
              "5           Java                     92\n",
              "6     JavaScript                     65\n",
              "7         Python                     51\n",
              "8          Scala                     47\n",
              "9         Oracle                      6\n",
              "10    SQL Server                     16\n",
              "11  MySQL Server                      5\n",
              "12    PostgreSQL                     17\n",
              "13       MongoDB                      4"
            ]
          },
          "metadata": {
            "tags": []
          },
          "execution_count": 3
        }
      ]
    },
    {
      "cell_type": "markdown",
      "metadata": {
        "id": "2xCJcmlCDRAp"
      },
      "source": [
        "Export dataframe to Excel file"
      ]
    },
    {
      "cell_type": "code",
      "metadata": {
        "colab": {
          "base_uri": "https://localhost:8080/"
        },
        "id": "-4cN6mWcAmyV",
        "outputId": "271675de-495e-44ab-8b7c-27bd7126dbb0"
      },
      "source": [
        "#your code goes here\n",
        "from google.colab import drive\n",
        "drive.mount('drive')\n",
        "df=pd.DataFrame(gitlab)\n",
        "df.to_excel('GitHub-Job-Posting.xlsx')\n",
        "df\n",
        "!cp GitHub-Job-Posting.xlsx \"drive/My Drive/\""
      ],
      "execution_count": 4,
      "outputs": [
        {
          "output_type": "stream",
          "text": [
            "Mounted at drive\n"
          ],
          "name": "stdout"
        }
      ]
    }
  ]
}